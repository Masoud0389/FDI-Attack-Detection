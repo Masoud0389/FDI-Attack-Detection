{
  "nbformat": 4,
  "nbformat_minor": 0,
  "metadata": {
    "colab": {
      "name": "Delay_Detection.ipynb",
      "provenance": [],
      "collapsed_sections": [],
      "machine_shape": "hm",
      "authorship_tag": "ABX9TyNHlG7hCvVsJjkUizmxEDdS",
      "include_colab_link": true
    },
    "kernelspec": {
      "name": "python3",
      "display_name": "Python 3"
    },
    "language_info": {
      "name": "python"
    },
    "gpuClass": "standard"
  },
  "cells": [
    {
      "cell_type": "markdown",
      "metadata": {
        "id": "view-in-github",
        "colab_type": "text"
      },
      "source": [
        "<a href=\"https://colab.research.google.com/github/Masoud0389/FDI-Attack-Detection/blob/main/FDI_Detection_KMeans_v1.ipynb\" target=\"_parent\"><img src=\"https://colab.research.google.com/assets/colab-badge.svg\" alt=\"Open In Colab\"/></a>"
      ]
    },
    {
      "cell_type": "markdown",
      "source": [
        "# Importing Libraries"
      ],
      "metadata": {
        "id": "mMSCMOJxOu3K"
      }
    },
    {
      "cell_type": "code",
      "execution_count": 1,
      "metadata": {
        "id": "Gchgm84kNWoc"
      },
      "outputs": [],
      "source": [
        "import numpy as np\n",
        "import matplotlib.pyplot as plt\n",
        "import pandas as pd"
      ]
    },
    {
      "cell_type": "markdown",
      "source": [
        "# Importing Dataset"
      ],
      "metadata": {
        "id": "cW0bgrVaOtzj"
      }
    },
    {
      "cell_type": "code",
      "source": [
        "from google.colab import drive\n",
        "drive.mount('/content/drive')"
      ],
      "metadata": {
        "id": "kjOQJmSmrAGC",
        "colab": {
          "base_uri": "https://localhost:8080/"
        },
        "outputId": "a890e33c-e773-4532-fe1f-5ff2f67111d0"
      },
      "execution_count": 2,
      "outputs": [
        {
          "output_type": "stream",
          "name": "stdout",
          "text": [
            "Drive already mounted at /content/drive; to attempt to forcibly remount, call drive.mount(\"/content/drive\", force_remount=True).\n"
          ]
        }
      ]
    },
    {
      "cell_type": "code",
      "source": [
        "#!pwd"
      ],
      "metadata": {
        "id": "8iV5tfz9r4we"
      },
      "execution_count": 3,
      "outputs": []
    },
    {
      "cell_type": "code",
      "source": [
        "dataset = pd.read_csv('drive/MyDrive/Datasets/DS_FDI2.csv')"
      ],
      "metadata": {
        "id": "18PF3GwCO6nS"
      },
      "execution_count": 4,
      "outputs": []
    },
    {
      "cell_type": "code",
      "source": [
        "X = dataset.iloc[:, :]"
      ],
      "metadata": {
        "id": "H_Aow0g4r52A"
      },
      "execution_count": 5,
      "outputs": []
    },
    {
      "cell_type": "code",
      "source": [
        "#print(X)"
      ],
      "metadata": {
        "id": "Z5ywm6d6_w6U"
      },
      "execution_count": 6,
      "outputs": []
    },
    {
      "cell_type": "markdown",
      "source": [
        "# Feature Scaling"
      ],
      "metadata": {
        "id": "cFRuDIJnPgfM"
      }
    },
    {
      "cell_type": "code",
      "source": [
        "from sklearn.utils.sparsefuncs import min_max_axis\n",
        "from sklearn import preprocessing\n",
        "from sklearn.preprocessing import StandardScaler\n",
        "from sklearn.preprocessing import normalize\n",
        "from sklearn.preprocessing import MaxAbsScaler\n",
        "# Scaling the data to bring all the attributes to a comparable level\n",
        "#scaler = StandardScaler()\n",
        "#X_scaled = scaler.fit_transform(X)\n",
        "#maxabs_scaler = MaxAbsScaler()\n",
        "#X_scaled = maxabs_scaler.fit_transform(X)\n",
        "min_max_scaler = preprocessing.MinMaxScaler()\n",
        "X_scaled = min_max_scaler.fit_transform(X) \n",
        "# Normalizing the data so that \n",
        "# the data approximately follows a Gaussian distribution\n",
        "X_normalized = normalize(X_scaled)\n",
        "# Converting the numpy array into a pandas DataFrame\n",
        "X_normalized = pd.DataFrame(X_normalized)"
      ],
      "metadata": {
        "id": "zBs8az9VmjbF"
      },
      "execution_count": 7,
      "outputs": []
    },
    {
      "cell_type": "markdown",
      "source": [
        "# Feature Selection/Reduction"
      ],
      "metadata": {
        "id": "5DFxoYBpnGKJ"
      }
    },
    {
      "cell_type": "code",
      "source": [
        "from sklearn.decomposition import PCA\n",
        "#from sklearn.feature_selection import VarianceThreshold\n",
        "#Y = VarianceThreshold(threshold=(.0010 * (1 - .0010)))\n",
        "#X = Y.fit_transform(X)\n",
        "#print(X)\n",
        "print(np.shape(X_normalized))\n",
        "pca = PCA(n_components = 2)\n",
        "X_principal = pca.fit_transform(X_normalized)\n",
        "X_principal = pd.DataFrame(X_principal)\n",
        "#X_principal.columns=['PC1','PC2']\n",
        "#cdict = {0: 'red', 1: 'blue'}\n",
        "#X_principal.columns = ['P1', 'P2']\n"
      ],
      "metadata": {
        "colab": {
          "base_uri": "https://localhost:8080/"
        },
        "id": "OTJu4w9unHCe",
        "outputId": "707f0c62-5148-432a-a8f8-64efcedb7967"
      },
      "execution_count": 8,
      "outputs": [
        {
          "output_type": "stream",
          "name": "stdout",
          "text": [
            "(600019, 34)\n"
          ]
        }
      ]
    },
    {
      "cell_type": "code",
      "source": [
        "#np. set_printoptions(threshold=np. inf)\n",
        "print(X_principal)\n",
        "print(type(X_principal))\n",
        "#print(X_principal.head())\n",
        "#print(np.shape(X_principal))"
      ],
      "metadata": {
        "id": "OJO178PNuCiR",
        "colab": {
          "base_uri": "https://localhost:8080/"
        },
        "outputId": "bf7252fb-b62d-4c03-b41e-27fa2ef172f4"
      },
      "execution_count": 9,
      "outputs": [
        {
          "output_type": "stream",
          "name": "stdout",
          "text": [
            "               0         1\n",
            "0      -0.024359  0.960128\n",
            "1      -0.024359  0.960128\n",
            "2      -0.024359  0.960128\n",
            "3      -0.024359  0.960128\n",
            "4      -0.024359  0.960128\n",
            "...          ...       ...\n",
            "600014  0.338766  0.038375\n",
            "600015  0.338765  0.038377\n",
            "600016  0.338764  0.038380\n",
            "600017  0.338764  0.038379\n",
            "600018  0.338764  0.038379\n",
            "\n",
            "[600019 rows x 2 columns]\n",
            "<class 'pandas.core.frame.DataFrame'>\n"
          ]
        }
      ]
    },
    {
      "cell_type": "markdown",
      "source": [
        "# Plot Test"
      ],
      "metadata": {
        "id": "J2JOE0o9oRP2"
      }
    },
    {
      "cell_type": "code",
      "source": [
        "plt.scatter(X_principal.iloc[:,0], X_principal.iloc[:,1], s = 1 , alpha=1)"
      ],
      "metadata": {
        "colab": {
          "base_uri": "https://localhost:8080/",
          "height": 284
        },
        "id": "BA2aSpjsniyc",
        "outputId": "83b53d1f-082d-41e7-f8d0-eba640333bb9"
      },
      "execution_count": 10,
      "outputs": [
        {
          "output_type": "execute_result",
          "data": {
            "text/plain": [
              "<matplotlib.collections.PathCollection at 0x7fbf7695ff90>"
            ]
          },
          "metadata": {},
          "execution_count": 10
        },
        {
          "output_type": "display_data",
          "data": {
            "text/plain": [
              "<Figure size 432x288 with 1 Axes>"
            ],
            "image/png": "[encoded data removed]"
          },
          "metadata": {
            "needs_background": "light"
          }
        }
      ]
    },
    {
      "cell_type": "code",
      "source": [
        "plt.scatter(X_principal.iloc[:8000,0], X_principal.iloc[:8000,1], c = 'b', s = 1 , alpha=1)\n",
        "plt.scatter(X_principal.iloc[10000:30000,0], X_principal.iloc[10000:30000,1],c = 'b', s = 1 , alpha=1)\n",
        "plt.scatter(X_principal.iloc[8000:10000,0], X_principal.iloc[8000:10000,1], c = 'r', s = 1 , alpha=1)\n",
        "plt.show()"
      ],
      "metadata": {
        "colab": {
          "base_uri": "https://localhost:8080/",
          "height": 268
        },
        "id": "B1MVtpy4lAGc",
        "outputId": "ee65c638-2b5d-45ef-c18a-eaefca0e6232"
      },
      "execution_count": 11,
      "outputs": [
        {
          "output_type": "display_data",
          "data": {
            "text/plain": [
              "<Figure size 432x288 with 1 Axes>"
            ],
            "image/png": "[encoded data removed]"
          },
          "metadata": {
            "needs_background": "light"
          }
        }
      ]
    },
    {
      "cell_type": "code",
      "source": [
        "\n",
        "#print(X_principal.iloc[:,0])\n",
        "plt.scatter(X_principal.iloc[:,0], X_principal.iloc[:,1],c = 'b', s = 1 , alpha=1)\n",
        "plt.scatter(X_principal.iloc[16000 + 30000:18000+ 30000,0], X_principal.iloc[16000+ 30000:18000+ 30000,1],c = 'r', s = 1 , alpha=1)\n",
        "#plt.title('Scatter plot')\n",
        "#plt.xlabel('x')\n",
        "#plt.ylabel('y')\n",
        "plt.show()"
      ],
      "metadata": {
        "colab": {
          "base_uri": "https://localhost:8080/",
          "height": 267
        },
        "id": "FL-lzyc92QHU",
        "outputId": "61177174-14ba-49b9-a36f-e71048df66f8"
      },
      "execution_count": 12,
      "outputs": [
        {
          "output_type": "display_data",
          "data": {
            "text/plain": [
              "<Figure size 432x288 with 1 Axes>"
            ],
            "image/png": "[encoded data removed]"
          },
          "metadata": {
            "needs_background": "light"
          }
        }
      ]
    },
    {
      "cell_type": "markdown",
      "source": [
        "# Anomaly Detection"
      ],
      "metadata": {
        "id": "FIkgCuY_zjYQ"
      }
    },
    {
      "cell_type": "code",
      "source": [
        "#from sklearn.cluster import DBSCAN\n",
        "# Numpy array of all the cluster labels assigned to each data point\n",
        "#db_default = DBSCAN(eps = 0.1, min_samples = 1000000).fit_predict(X_principal)\n",
        "#label = db_default.labels_\n",
        "#labels.to_csv('test_DBSCAN1.csv')"
      ],
      "metadata": {
        "id": "Bx-1jK5nxl7U"
      },
      "execution_count": 13,
      "outputs": []
    },
    {
      "cell_type": "code",
      "source": [
        "#from sklearn.cluster import OPTICS\n",
        "#label = OPTICS(min_samples= 10000).fit_predict(X_principal)"
      ],
      "metadata": {
        "id": "eY8OQF4RLcbR"
      },
      "execution_count": 14,
      "outputs": []
    },
    {
      "cell_type": "code",
      "source": [
        "#from sklearn.neighbors import LocalOutlierFactor\n",
        "#lof = LocalOutlierFactor(n_neighbors=500)\n",
        "#label = lof.fit_predict(X_principal)"
      ],
      "metadata": {
        "id": "UkaT4qvS-n2x"
      },
      "execution_count": 31,
      "outputs": []
    },
    {
      "cell_type": "code",
      "source": [
        "from sklearn.cluster import KMeans\n",
        "kmeans = KMeans(n_clusters=2, algorithm='elkan', init='k-means++')\n",
        "label = kmeans.fit_predict(X_principal)"
      ],
      "metadata": {
        "id": "yP2MZQZcMMOt"
      },
      "execution_count": 36,
      "outputs": []
    },
    {
      "cell_type": "code",
      "source": [
        "#print(label)\n",
        "#label = pd.DataFrame(label, columns = ['Column_A'])\n",
        "#label.to_csv(\"lof_test1.csv\")"
      ],
      "metadata": {
        "id": "mTn4DBpkNr5Y"
      },
      "execution_count": 17,
      "outputs": []
    },
    {
      "cell_type": "markdown",
      "source": [
        "# Visualization"
      ],
      "metadata": {
        "id": "aw4EUEBW3RPM"
      }
    },
    {
      "cell_type": "code",
      "source": [
        "#plt.scatter(X_principal.loc[label == -1, 0], X_principal.loc[label == -1, 1], s = 1, c = 'red', label = 'Outliers Data')\n",
        "#plt.scatter(X_principal.loc[label == 1, 0], X_principal.loc[label == 1, 1], s = 1, c = 'blue', label = 'Normal Data')\n",
        "plt.scatter(X_principal.iloc[:,0], X_principal.iloc[:,1], c = label, s = 1 , alpha=1)\n",
        "#plt.scatter(values.iloc[:, 0], values.iloc[:, 1], c = 'r', s = 1 , alpha=1)\n",
        "plt.title('IEEE33BUS Voltages Delay Attack Detection')\n",
        "plt.xlabel('P1')\n",
        "plt.ylabel('P2')\n",
        "plt.legend()\n",
        "plt.show()"
      ],
      "metadata": {
        "colab": {
          "base_uri": "https://localhost:8080/",
          "height": 312
        },
        "id": "aibl7bMS3TzR",
        "outputId": "a90972ae-5144-482b-ca37-2628b34fe365"
      },
      "execution_count": 37,
      "outputs": [
        {
          "output_type": "stream",
          "name": "stderr",
          "text": [
            "No handles with labels found to put in legend.\n"
          ]
        },
        {
          "output_type": "display_data",
          "data": {
            "text/plain": [
              "<Figure size 432x288 with 1 Axes>"
            ],
            "image/png": "[encoded data removed]"
          },
          "metadata": {
            "needs_background": "light"
          }
        }
      ]
    },
    {
      "cell_type": "code",
      "source": [
        "#index = np.where(label == -1)\n",
        "#index1 = np.where(label==1)\n",
        "#index = tuple((i+100000)/20000 for i in index)\n",
        "#index1 = tuple((i+100000)/20000 for i in index1)"
      ],
      "metadata": {
        "id": "zBjpijspCPkd"
      },
      "execution_count": 19,
      "outputs": []
    },
    {
      "cell_type": "code",
      "source": [
        "#plt.scatter(index, X_principal.loc[label == -1, 1], s = 1, c = 'red', label = 'Outliers Data')\n",
        "#plt.scatter(index1, X_principal.loc[label == 1, 1], s = 1, c = 'blue', label = 'Normal Data')\n",
        "#plt.scatter(X_principal.iloc[:,0], X_principal.iloc[:,1], c = 'b', s = 1 , alpha=1)\n",
        "#plt.scatter(values.iloc[:, 0], values.iloc[:, 1], c = 'r', s = 1 , alpha=1)\n",
        "#plt.title('IEEE33BUS Voltages Delay Attack Detection')\n",
        "#plt.xlabel('Time')\n",
        "#plt.ylabel('V')\n",
        "#plt.legend()\n",
        "#plt.show() "
      ],
      "metadata": {
        "id": "HJKyQrxdCHFd"
      },
      "execution_count": 20,
      "outputs": []
    },
    {
      "cell_type": "code",
      "source": [
        "#ind = pd.Series(range(1,500001))\n",
        "#ind = (ind/20000)+5\n",
        "#plt.scatter(index, X_principal.loc[label == -1, 1], s = 1, c = 'red', label = 'Outliers Data')"
      ],
      "metadata": {
        "id": "vB2Bin7xDZuk"
      },
      "execution_count": 21,
      "outputs": []
    },
    {
      "cell_type": "code",
      "source": [
        "#plt.scatter(ind[200000:260001], X_principal.loc[200000:260000,1], s = 1 )"
      ],
      "metadata": {
        "id": "VTZ7kLODFSt1"
      },
      "execution_count": 22,
      "outputs": []
    }
  ]
}