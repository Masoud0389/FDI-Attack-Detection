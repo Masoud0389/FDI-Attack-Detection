{
  "nbformat": 4,
  "nbformat_minor": 0,
  "metadata": {
    "colab": {
      "name": "Delay_Detection.ipynb",
      "provenance": [],
      "collapsed_sections": [],
      "machine_shape": "hm",
      "authorship_tag": "ABX9TyMQZTKU9Yh4kbaqPoTmXuOM",
      "include_colab_link": true
    },
    "kernelspec": {
      "name": "python3",
      "display_name": "Python 3"
    },
    "language_info": {
      "name": "python"
    },
    "accelerator": "TPU",
    "gpuClass": "standard"
  },
  "cells": [
    {
      "cell_type": "markdown",
      "metadata": {
        "id": "view-in-github",
        "colab_type": "text"
      },
      "source": [
        "<a href=\"https://colab.research.google.com/github/Masoud0389/FDI-Attack-Detection/blob/main/FDI_Detection_KNN_v1.ipynb\" target=\"_parent\"><img src=\"https://colab.research.google.com/assets/colab-badge.svg\" alt=\"Open In Colab\"/></a>"
      ]
    },
    {
      "cell_type": "markdown",
      "source": [
        "# Importing Libraries"
      ],
      "metadata": {
        "id": "mMSCMOJxOu3K"
      }
    },
    {
      "cell_type": "code",
      "execution_count": 1,
      "metadata": {
        "id": "Gchgm84kNWoc"
      },
      "outputs": [],
      "source": [
        "import numpy as np\n",
        "import matplotlib.pyplot as plt\n",
        "import pandas as pd"
      ]
    },
    {
      "cell_type": "markdown",
      "source": [
        "# Importing Dataset"
      ],
      "metadata": {
        "id": "cW0bgrVaOtzj"
      }
    },
    {
      "cell_type": "code",
      "source": [
        "from google.colab import drive\n",
        "drive.mount('/content/drive')"
      ],
      "metadata": {
        "id": "kjOQJmSmrAGC",
        "colab": {
          "base_uri": "https://localhost:8080/"
        },
        "outputId": "925ab831-e9a0-4383-de91-5f6f2c326c76"
      },
      "execution_count": 76,
      "outputs": [
        {
          "output_type": "stream",
          "name": "stdout",
          "text": [
            "Drive already mounted at /content/drive; to attempt to forcibly remount, call drive.mount(\"/content/drive\", force_remount=True).\n"
          ]
        }
      ]
    },
    {
      "cell_type": "code",
      "source": [
        "#!pwd"
      ],
      "metadata": {
        "id": "8iV5tfz9r4we"
      },
      "execution_count": 77,
      "outputs": []
    },
    {
      "cell_type": "code",
      "source": [
        "dataset = pd.read_csv('drive/MyDrive/Datasets/DS_FDI5.csv')"
      ],
      "metadata": {
        "id": "18PF3GwCO6nS"
      },
      "execution_count": 78,
      "outputs": []
    },
    {
      "cell_type": "code",
      "source": [
        "X = dataset.iloc[:, :]\n",
        "y = np.arange(0, 2400019)\n",
        "y = y*0\n",
        "for i in range(0, 20):\n",
        "  y[28000+ 120001*i:36000+ 120001*i] = 1\n",
        "y = pd.DataFrame(y)"
      ],
      "metadata": {
        "id": "H_Aow0g4r52A"
      },
      "execution_count": 79,
      "outputs": []
    },
    {
      "cell_type": "code",
      "source": [
        "#print(X)"
      ],
      "metadata": {
        "id": "Z5ywm6d6_w6U"
      },
      "execution_count": 80,
      "outputs": []
    },
    {
      "cell_type": "markdown",
      "source": [
        "# Splitting the dataset into the Training set and Test set"
      ],
      "metadata": {
        "id": "rAsN9MxfRP9O"
      }
    },
    {
      "cell_type": "code",
      "source": [
        "from sklearn.model_selection import train_test_split\n",
        "X_train, X_test, y_train, y_test = train_test_split(X, y, test_size = 0.2, random_state = 0)"
      ],
      "metadata": {
        "id": "vFSsfeP1RS6j"
      },
      "execution_count": 82,
      "outputs": []
    },
    {
      "cell_type": "markdown",
      "source": [
        "# Feature Scaling"
      ],
      "metadata": {
        "id": "cFRuDIJnPgfM"
      }
    },
    {
      "cell_type": "code",
      "source": [
        "from sklearn.utils.sparsefuncs import min_max_axis\n",
        "from sklearn import preprocessing\n",
        "from sklearn.preprocessing import StandardScaler\n",
        "from sklearn.preprocessing import normalize\n",
        "from sklearn.preprocessing import MaxAbsScaler\n",
        "from sklearn.preprocessing import RobustScaler\n",
        "# Scaling the data to bring all the attributes to a comparable level\n",
        "#scaler = StandardScaler()\n",
        "#X_train_scaled = scaler.fit_transform(X_train)\n",
        "#X_test_scaled = scaler.fit_transform(X_test)\n",
        "#scaler = RobustScaler()\n",
        "#X_train_scaled = scaler.fit_transform(X_train)\n",
        "#X_test_scaled = scaler.fit_transform(X_test)\n",
        "maxabs_scaler = MaxAbsScaler()\n",
        "X_train_scaled = maxabs_scaler.fit_transform(X_train)\n",
        "X_test_scaled = maxabs_scaler.fit_transform(X_test)\n",
        "#min_max_scaler = preprocessing.MinMaxScaler()\n",
        "#X_train_scaled = min_max_scaler.fit_transform(X_train) \n",
        "#X_test_scaled = min_max_scaler.fit_transform(X_test) \n",
        "# Normalizing the data so that \n",
        "# the data approximately follows a Gaussian distribution\n",
        "X_train_normalized = normalize(X_train_scaled, norm = 'max')\n",
        "X_test_normalized = normalize(X_test_scaled, norm = 'max')\n",
        "# Converting the numpy array into a pandas DataFrame\n",
        "X_train_normalized = pd.DataFrame(X_train_normalized)\n",
        "X_test_normalized = pd.DataFrame(X_test_normalized)"
      ],
      "metadata": {
        "id": "zBs8az9VmjbF"
      },
      "execution_count": 86,
      "outputs": []
    },
    {
      "cell_type": "markdown",
      "source": [
        "# Feature Selection/Reduction"
      ],
      "metadata": {
        "id": "5DFxoYBpnGKJ"
      }
    },
    {
      "cell_type": "code",
      "source": [
        "from sklearn.decomposition import PCA\n",
        "\n",
        "pca = PCA(n_components = 2, whiten= True)\n",
        "X_train_principal = pca.fit_transform(X_train_normalized)\n",
        "X_train_principal = pd.DataFrame(X_train_principal)\n",
        "X_test_principal = pca.fit_transform(X_test_normalized)\n",
        "X_test_principal = pd.DataFrame(X_test_principal)\n"
      ],
      "metadata": {
        "id": "OTJu4w9unHCe"
      },
      "execution_count": 87,
      "outputs": []
    },
    {
      "cell_type": "code",
      "source": [
        "#np. set_printoptions(threshold=np. inf)\n",
        "#print(X_principal)\n",
        "#print(type(X_principal))\n",
        "#print(X_principal.head())\n",
        "#print(np.shape(X_principal))"
      ],
      "metadata": {
        "id": "OJO178PNuCiR",
        "colab": {
          "base_uri": "https://localhost:8080/"
        },
        "outputId": "114e4efd-8fd8-45a0-d8bc-dae7f53e3be3"
      },
      "execution_count": 72,
      "outputs": [
        {
          "output_type": "stream",
          "name": "stdout",
          "text": [
            "               0         1\n",
            "0        0.15934  0.052202\n",
            "1        0.15934  0.052202\n",
            "2        0.15934  0.052202\n",
            "3        0.15934  0.052202\n",
            "4        0.15934  0.052202\n",
            "...          ...       ...\n",
            "2400014 -0.02388  0.003798\n",
            "2400015 -0.02388  0.003798\n",
            "2400016 -0.02388  0.003798\n",
            "2400017 -0.02388  0.003798\n",
            "2400018 -0.02388  0.003798\n",
            "\n",
            "[2400019 rows x 2 columns]\n",
            "<class 'pandas.core.frame.DataFrame'>\n"
          ]
        }
      ]
    },
    {
      "cell_type": "markdown",
      "source": [
        "# Plot Test"
      ],
      "metadata": {
        "id": "J2JOE0o9oRP2"
      }
    },
    {
      "cell_type": "code",
      "source": [
        "plt.scatter(X_train_principal.iloc[:,0], X_train_principal.iloc[:,1], s = 1 , alpha=1)"
      ],
      "metadata": {
        "colab": {
          "base_uri": "https://localhost:8080/",
          "height": 283
        },
        "id": "BA2aSpjsniyc",
        "outputId": "9d319bdc-4dc3-4436-e908-39ae02bc9344"
      },
      "execution_count": 88,
      "outputs": [
        {
          "output_type": "execute_result",
          "data": {
            "text/plain": [
              "<matplotlib.collections.PathCollection at 0x7f6191464250>"
            ]
          },
          "metadata": {},
          "execution_count": 88
        },
        {
          "output_type": "display_data",
          "data": {
            "text/plain": [
              "<Figure size 432x288 with 1 Axes>"
            ],
            "image/png": "[encoded data removed]"
          },
          "metadata": {
            "needs_background": "light"
          }
        }
      ]
    },
    {
      "cell_type": "code",
      "source": [
        "\n",
        "#print(X_principal.iloc[:,0])\n",
        "#plt.scatter(X_train_principal.iloc[:,0], X_train_principal.iloc[:,1],c = 'b', s = 1 , alpha=1)\n",
        "#for i in range(0, 20):\n",
        "#  plt.scatter(X_train_principal.iloc[28000 + 120001*i:36000+ 120001*i,0], X_train_principal.iloc[28000+ 120001*i:36000+ 120001*i,1],c = 'r', s = 1 , alpha=1)\n",
        "\n",
        "#plt.title('Scatter plot')\n",
        "#plt.xlabel('x')\n",
        "#plt.ylabel('y')\n",
        "#plt.show()"
      ],
      "metadata": {
        "colab": {
          "base_uri": "https://localhost:8080/",
          "height": 266
        },
        "id": "FL-lzyc92QHU",
        "outputId": "d9be214f-98ee-40c3-b70b-1414e61b12d2"
      },
      "execution_count": 90,
      "outputs": [
        {
          "output_type": "display_data",
          "data": {
            "text/plain": [
              "<Figure size 432x288 with 1 Axes>"
            ],
            "image/png": "[encoded data removed]"
          },
          "metadata": {
            "needs_background": "light"
          }
        }
      ]
    },
    {
      "cell_type": "markdown",
      "source": [
        "# Anomaly Detection"
      ],
      "metadata": {
        "id": "FIkgCuY_zjYQ"
      }
    },
    {
      "cell_type": "code",
      "source": [
        "#from sklearn.cluster import DBSCAN\n",
        "#Numpy array of all the cluster labels assigned to each data point\n",
        "#label = DBSCAN(eps = 0.001, min_samples = 10, algorithm='ball_tree', metric='haversine').fit_predict(X_principal)\n",
        "#label = db_default.labels_\n",
        "#labels.to_csv('test_DBSCAN1.csv')"
      ],
      "metadata": {
        "id": "Bx-1jK5nxl7U"
      },
      "execution_count": 17,
      "outputs": []
    },
    {
      "cell_type": "code",
      "source": [
        "from sklearn.neighbors import KNeighborsClassifier\n",
        "classifier = KNeighborsClassifier(n_neighbors = 500, metric = 'minkowski', p = 2)\n",
        "classifier.fit(X_train_principal, y_train)"
      ],
      "metadata": {
        "id": "2KYS3gvDSGBQ",
        "outputId": "438d2be6-0e89-4c70-8d20-8abf8667553c",
        "colab": {
          "base_uri": "https://localhost:8080/"
        }
      },
      "execution_count": 102,
      "outputs": [
        {
          "output_type": "stream",
          "name": "stderr",
          "text": [
            "/usr/local/lib/python3.7/dist-packages/sklearn/neighbors/_classification.py:198: DataConversionWarning: A column-vector y was passed when a 1d array was expected. Please change the shape of y to (n_samples,), for example using ravel().\n",
            "  return self._fit(X, y)\n"
          ]
        },
        {
          "output_type": "execute_result",
          "data": {
            "text/plain": [
              "KNeighborsClassifier(n_neighbors=500)"
            ]
          },
          "metadata": {},
          "execution_count": 102
        }
      ]
    },
    {
      "cell_type": "code",
      "source": [
        "#from sklearn.ensemble import IsolationForest\n",
        "#label = IsolationForest(n_estimators= 100, contamination=4/60).fit_predict(X_principal)"
      ],
      "metadata": {
        "id": "VB0t7EeOfovK"
      },
      "execution_count": 68,
      "outputs": []
    },
    {
      "cell_type": "code",
      "source": [
        "#from sklearn.cluster import OPTICS\n",
        "#label = OPTICS(min_samples= 500).fit_predict(X_principal)"
      ],
      "metadata": {
        "id": "eY8OQF4RLcbR"
      },
      "execution_count": null,
      "outputs": []
    },
    {
      "cell_type": "code",
      "source": [
        "#from sklearn.neighbors import LocalOutlierFactor\n",
        "#lof = LocalOutlierFactor(n_neighbors=500)\n",
        "#label = lof.fit_predict(X_principal)"
      ],
      "metadata": {
        "id": "UkaT4qvS-n2x"
      },
      "execution_count": null,
      "outputs": []
    },
    {
      "cell_type": "code",
      "source": [
        "#from sklearn.cluster import KMeans\n",
        "#kmeans = KMeans(n_clusters=2, algorithm='elkan', init='k-means++')\n",
        "#label = kmeans.fit_predict(X_principal)"
      ],
      "metadata": {
        "id": "yP2MZQZcMMOt"
      },
      "execution_count": null,
      "outputs": []
    },
    {
      "cell_type": "code",
      "source": [
        "#print(label)\n",
        "#label = pd.DataFrame(label, columns = ['Column_A'])\n",
        "#label.to_csv(\"lof_test1.csv\")"
      ],
      "metadata": {
        "id": "mTn4DBpkNr5Y"
      },
      "execution_count": null,
      "outputs": []
    },
    {
      "cell_type": "code",
      "source": [
        "#from sklearn.tree import DecisionTreeClassifier\n",
        "#classifier = DecisionTreeClassifier(criterion = 'entropy')\n",
        "#classifier.fit(X_train_principal, y_train)"
      ],
      "metadata": {
        "id": "zOd2TrM3TC1E",
        "outputId": "717c7e52-61f8-4343-c2cb-265bd155c15b",
        "colab": {
          "base_uri": "https://localhost:8080/"
        }
      },
      "execution_count": 94,
      "outputs": [
        {
          "output_type": "execute_result",
          "data": {
            "text/plain": [
              "DecisionTreeClassifier(criterion='entropy')"
            ]
          },
          "metadata": {},
          "execution_count": 94
        }
      ]
    },
    {
      "cell_type": "code",
      "source": [
        "#from sklearn.linear_model import LogisticRegression\n",
        "#classifier = LogisticRegression(random_state = 0)\n",
        "#classifier.fit(X_train_principal, y_train)"
      ],
      "metadata": {
        "id": "xEnXphV_Tb4J",
        "outputId": "d0c54782-6812-4bb9-cf05-5a0f27ac6935",
        "colab": {
          "base_uri": "https://localhost:8080/"
        }
      },
      "execution_count": 97,
      "outputs": [
        {
          "output_type": "stream",
          "name": "stderr",
          "text": [
            "/usr/local/lib/python3.7/dist-packages/sklearn/utils/validation.py:993: DataConversionWarning: A column-vector y was passed when a 1d array was expected. Please change the shape of y to (n_samples, ), for example using ravel().\n",
            "  y = column_or_1d(y, warn=True)\n"
          ]
        },
        {
          "output_type": "execute_result",
          "data": {
            "text/plain": [
              "LogisticRegression(random_state=0)"
            ]
          },
          "metadata": {},
          "execution_count": 97
        }
      ]
    },
    {
      "cell_type": "markdown",
      "source": [
        "# Results"
      ],
      "metadata": {
        "id": "JjwZcG9GSm9T"
      }
    },
    {
      "cell_type": "code",
      "source": [
        "y_pred = classifier.predict(X_test_principal)\n",
        "from sklearn.metrics import confusion_matrix, accuracy_score, f1_score\n",
        "from sklearn.metrics import precision_recall_fscore_support\n",
        "#classifier.score(X_test_principal, y_pred)\n",
        "cm = confusion_matrix(y_test, y_pred)\n",
        "#print(cm)\n",
        "#accuracy_score(y_test, y_pred)\n",
        "#f1_score(y_test, y_pred)\n",
        "#print(np.column_stack((y_pred, y_test)))\n",
        "#print(y_pred[6000])\n",
        "[prec, rec, f1, n] = precision_recall_fscore_support(y_test, y_pred, average='binary')\n",
        "print('Precision is: ', prec)\n",
        "print('Recall is: ', rec)\n",
        "print('F1_Score is: ', f1)"
      ],
      "metadata": {
        "id": "AoZVRfFLSo8z",
        "outputId": "40431d5e-fca8-48f1-ff9f-6b1f8399971f",
        "colab": {
          "base_uri": "https://localhost:8080/"
        }
      },
      "execution_count": 103,
      "outputs": [
        {
          "output_type": "stream",
          "name": "stdout",
          "text": [
            "Precision is:  0.5561846065644259\n",
            "Recall is:  0.24115216107883045\n",
            "F1_Score is:  0.3364327979712595\n"
          ]
        }
      ]
    },
    {
      "cell_type": "markdown",
      "source": [
        "# Visualization"
      ],
      "metadata": {
        "id": "aw4EUEBW3RPM"
      }
    },
    {
      "cell_type": "code",
      "source": [
        "fig, ax = plt.subplots(ncols = 2) \n",
        "fig.set_figheight(6)\n",
        "fig.set_figwidth(11)\n",
        "ax[0].scatter(X_test_principal.iloc[:, 0], y_pred[:], s = 1, c = 'red', label = 'Predicted Label', alpha= 1)\n",
        "ax[1].scatter(X_test_principal.iloc[:, 0], y_test.iloc[:, 0], s = 1, c = 'blue', label = 'True Label', alpha = 1)\n",
        "#plt.scatter(X_principal.iloc[:,0], X_principal.iloc[:,1], c = 'b', s = 1 , alpha=1)\n",
        "#plt.scatter(values.iloc[:, 0], values.iloc[:, 1], c = 'r', s = 1 , alpha=1)\n",
        "plt.title('IEEE33BUS Voltages FDI Attack Detection')\n",
        "plt.xlabel('P1')\n",
        "plt.ylabel('P2')\n",
        "plt.legend()\n",
        "plt.show()"
      ],
      "metadata": {
        "colab": {
          "base_uri": "https://localhost:8080/",
          "height": 404
        },
        "id": "aibl7bMS3TzR",
        "outputId": "ca9ad961-e286-4e7f-8833-73acd10b5ddf"
      },
      "execution_count": 104,
      "outputs": [
        {
          "output_type": "display_data",
          "data": {
            "text/plain": [
              "<Figure size 792x432 with 2 Axes>"
            ],
            "image/png": "[encoded data removed]"
          },
          "metadata": {
            "needs_background": "light"
          }
        }
      ]
    },
    {
      "cell_type": "code",
      "source": [
        "#index = np.where(label == -1)\n",
        "#index1 = np.where(label==1)\n",
        "#index = tuple((i+100000)/20000 for i in index)\n",
        "#index1 = tuple((i+100000)/20000 for i in index1)"
      ],
      "metadata": {
        "id": "zBjpijspCPkd"
      },
      "execution_count": null,
      "outputs": []
    },
    {
      "cell_type": "code",
      "source": [
        "#plt.scatter(index, X_principal.loc[label == -1, 1], s = 1, c = 'red', label = 'Outliers Data')\n",
        "#plt.scatter(index1, X_principal.loc[label == 1, 1], s = 1, c = 'blue', label = 'Normal Data')\n",
        "#plt.scatter(X_principal.iloc[:,0], X_principal.iloc[:,1], c = 'b', s = 1 , alpha=1)\n",
        "#plt.scatter(values.iloc[:, 0], values.iloc[:, 1], c = 'r', s = 1 , alpha=1)\n",
        "#plt.title('IEEE33BUS Voltages Delay Attack Detection')\n",
        "#plt.xlabel('Time')\n",
        "#plt.ylabel('V')\n",
        "#plt.legend()\n",
        "#plt.show() "
      ],
      "metadata": {
        "id": "HJKyQrxdCHFd"
      },
      "execution_count": null,
      "outputs": []
    },
    {
      "cell_type": "code",
      "source": [
        "#ind = pd.Series(range(1,500001))\n",
        "#ind = (ind/20000)+5\n",
        "#plt.scatter(index, X_principal.loc[label == -1, 1], s = 1, c = 'red', label = 'Outliers Data')"
      ],
      "metadata": {
        "id": "vB2Bin7xDZuk"
      },
      "execution_count": null,
      "outputs": []
    },
    {
      "cell_type": "code",
      "source": [
        "#plt.scatter(ind[200000:260001], X_principal.loc[200000:260000,1], s = 1 )"
      ],
      "metadata": {
        "id": "VTZ7kLODFSt1"
      },
      "execution_count": null,
      "outputs": []
    }
  ]
}