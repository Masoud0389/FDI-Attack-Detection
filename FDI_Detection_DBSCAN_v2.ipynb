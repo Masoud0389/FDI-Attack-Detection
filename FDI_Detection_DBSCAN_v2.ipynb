{
  "nbformat": 4,
  "nbformat_minor": 0,
  "metadata": {
    "colab": {
      "name": "Delay_Detection.ipynb",
      "provenance": [],
      "collapsed_sections": [],
      "machine_shape": "hm",
      "authorship_tag": "ABX9TyO8K39QryCwEeSvZ+2JjqbQ",
      "include_colab_link": true
    },
    "kernelspec": {
      "name": "python3",
      "display_name": "Python 3"
    },
    "language_info": {
      "name": "python"
    },
    "accelerator": "GPU",
    "gpuClass": "standard"
  },
  "cells": [
    {
      "cell_type": "markdown",
      "metadata": {
        "id": "view-in-github",
        "colab_type": "text"
      },
      "source": [
        "<a href=\"https://colab.research.google.com/github/Masoud0389/FDI-Attack-Detection/blob/main/FDI_Detection_DBSCAN_v2.ipynb\" target=\"_parent\"><img src=\"https://colab.research.google.com/assets/colab-badge.svg\" alt=\"Open In Colab\"/></a>"
      ]
    },
    {
      "cell_type": "markdown",
      "source": [
        "# Importing Libraries"
      ],
      "metadata": {
        "id": "mMSCMOJxOu3K"
      }
    },
    {
      "cell_type": "code",
      "execution_count": 17,
      "metadata": {
        "id": "Gchgm84kNWoc"
      },
      "outputs": [],
      "source": [
        "import numpy as np\n",
        "import matplotlib.pyplot as plt\n",
        "import pandas as pd"
      ]
    },
    {
      "cell_type": "markdown",
      "source": [
        "# Importing Dataset"
      ],
      "metadata": {
        "id": "cW0bgrVaOtzj"
      }
    },
    {
      "cell_type": "code",
      "source": [
        "from google.colab import drive\n",
        "drive.mount('/content/drive')"
      ],
      "metadata": {
        "id": "kjOQJmSmrAGC",
        "colab": {
          "base_uri": "https://localhost:8080/"
        },
        "outputId": "db141e23-d17b-455c-c631-82f8e38e1092"
      },
      "execution_count": 18,
      "outputs": [
        {
          "output_type": "stream",
          "name": "stdout",
          "text": [
            "Drive already mounted at /content/drive; to attempt to forcibly remount, call drive.mount(\"/content/drive\", force_remount=True).\n"
          ]
        }
      ]
    },
    {
      "cell_type": "code",
      "source": [
        "#!pwd"
      ],
      "metadata": {
        "id": "8iV5tfz9r4we"
      },
      "execution_count": 19,
      "outputs": []
    },
    {
      "cell_type": "code",
      "source": [
        "dataset = pd.read_csv('drive/MyDrive/Datasets/DS_FDI2.csv')"
      ],
      "metadata": {
        "id": "18PF3GwCO6nS"
      },
      "execution_count": 20,
      "outputs": []
    },
    {
      "cell_type": "code",
      "source": [
        "X = dataset.iloc[:, :]"
      ],
      "metadata": {
        "id": "H_Aow0g4r52A"
      },
      "execution_count": 21,
      "outputs": []
    },
    {
      "cell_type": "code",
      "source": [
        "#print(X)"
      ],
      "metadata": {
        "id": "Z5ywm6d6_w6U"
      },
      "execution_count": 22,
      "outputs": []
    },
    {
      "cell_type": "markdown",
      "source": [
        "# Feature Scaling"
      ],
      "metadata": {
        "id": "cFRuDIJnPgfM"
      }
    },
    {
      "cell_type": "code",
      "source": [
        "from sklearn.utils.sparsefuncs import min_max_axis\n",
        "from sklearn import preprocessing\n",
        "from sklearn.preprocessing import StandardScaler\n",
        "from sklearn.preprocessing import normalize\n",
        "from sklearn.preprocessing import MaxAbsScaler\n",
        "from sklearn.preprocessing import RobustScaler\n",
        "# Scaling the data to bring all the attributes to a comparable level\n",
        "#scaler = StandardScaler()\n",
        "#X_scaled = scaler.fit_transform(X)\n",
        "#scaler = RobustScaler()\n",
        "#X_scaled = scaler.fit_transform(X)\n",
        "maxabs_scaler = MaxAbsScaler()\n",
        "X_scaled = maxabs_scaler.fit_transform(X)\n",
        "#min_max_scaler = preprocessing.MinMaxScaler()\n",
        "#X_scaled = min_max_scaler.fit_transform(X) \n",
        "# Normalizing the data so that \n",
        "# the data approximately follows a Gaussian distribution\n",
        "X_normalized = normalize(X_scaled)\n",
        "# Converting the numpy array into a pandas DataFrame\n",
        "X_normalized = pd.DataFrame(X_normalized)"
      ],
      "metadata": {
        "id": "zBs8az9VmjbF"
      },
      "execution_count": 23,
      "outputs": []
    },
    {
      "cell_type": "markdown",
      "source": [
        "# Feature Selection/Reduction"
      ],
      "metadata": {
        "id": "5DFxoYBpnGKJ"
      }
    },
    {
      "cell_type": "code",
      "source": [
        "#from sklearn.decomposition import PCA\n",
        "#print(np.shape(X_normalized))\n",
        "#pca = PCA(n_components = 2, whiten = True)\n",
        "#X_principal = pca.fit_transform(X_normalized)\n",
        "#X_principal = pd.DataFrame(X_principal)\n"
      ],
      "metadata": {
        "id": "OTJu4w9unHCe"
      },
      "execution_count": 24,
      "outputs": []
    },
    {
      "cell_type": "code",
      "source": [
        "from sklearn.decomposition import TruncatedSVD\n",
        "svd = TruncatedSVD(n_components=2, algorithm='arpack')\n",
        "X_principal = svd.fit_transform(X_normalized)\n",
        "X_principal = pd.DataFrame(X_principal)"
      ],
      "metadata": {
        "id": "LLF6hpn8rgLG"
      },
      "execution_count": 25,
      "outputs": []
    },
    {
      "cell_type": "code",
      "source": [
        ""
      ],
      "metadata": {
        "id": "TbkS1e22UyzO"
      },
      "execution_count": null,
      "outputs": []
    },
    {
      "cell_type": "markdown",
      "source": [
        "# Plot Test"
      ],
      "metadata": {
        "id": "J2JOE0o9oRP2"
      }
    },
    {
      "cell_type": "code",
      "source": [
        "plt.scatter(X_principal.iloc[:,0], X_principal.iloc[:,1], s = 1 , alpha=1)"
      ],
      "metadata": {
        "colab": {
          "base_uri": "https://localhost:8080/",
          "height": 282
        },
        "id": "BA2aSpjsniyc",
        "outputId": "08516822-68e0-4911-a6e7-6603fbf9dce6"
      },
      "execution_count": 12,
      "outputs": [
        {
          "output_type": "execute_result",
          "data": {
            "text/plain": [
              "<matplotlib.collections.PathCollection at 0x7fdf82037450>"
            ]
          },
          "metadata": {},
          "execution_count": 12
        },
        {
          "output_type": "display_data",
          "data": {
            "text/plain": [
              "<Figure size 432x288 with 1 Axes>"
            ],
            "image/png": "[encoded data removed]"
          },
          "metadata": {
            "needs_background": "light"
          }
        }
      ]
    },
    {
      "cell_type": "code",
      "source": [
        "plt.scatter(X_principal.iloc[:8000,0], X_principal.iloc[:8000,1], c = 'b', s = 1 , alpha=1)\n",
        "plt.scatter(X_principal.iloc[10000:30000,0], X_principal.iloc[10000:30000,1],c = 'b', s = 1 , alpha=1)\n",
        "plt.scatter(X_principal.iloc[8000:10000,0], X_principal.iloc[8000:10000,1], c = 'r', s = 1 , alpha=1)\n",
        "plt.show()"
      ],
      "metadata": {
        "colab": {
          "base_uri": "https://localhost:8080/",
          "height": 265
        },
        "id": "B1MVtpy4lAGc",
        "outputId": "c77fc7b9-642d-4147-c234-d4b7d4b8b3bd"
      },
      "execution_count": 13,
      "outputs": [
        {
          "output_type": "display_data",
          "data": {
            "text/plain": [
              "<Figure size 432x288 with 1 Axes>"
            ],
            "image/png": "[encoded data removed]"
          },
          "metadata": {
            "needs_background": "light"
          }
        }
      ]
    },
    {
      "cell_type": "code",
      "source": [
        "\n",
        "#print(X_principal.iloc[:,0])\n",
        "plt.scatter(X_principal.iloc[:,0], X_principal.iloc[:,1],c = 'b', s = 1 , alpha=1)\n",
        "for i in range(0,20):\n",
        "  plt.scatter(X_principal.iloc[8000 + 30000*i:10000+ 30000*i,0], X_principal.iloc[8000+ 30000*i:10000+ 30000*i,1],c = 'r', s = 1 , alpha=1)\n",
        "  plt.scatter(X_principal.iloc[16000 + 30000*i:18000+ 30000*i,0], X_principal.iloc[16000+ 30000*i:18000+ 30000*i,1],c = 'r', s = 1 , alpha=1)\n",
        "#plt.title('Scatter plot')\n",
        "#plt.xlabel('x')\n",
        "#plt.ylabel('y')\n",
        "plt.show()"
      ],
      "metadata": {
        "colab": {
          "base_uri": "https://localhost:8080/",
          "height": 265
        },
        "id": "FL-lzyc92QHU",
        "outputId": "d9a7281b-920e-4ac5-feae-ba864c433b75"
      },
      "execution_count": 14,
      "outputs": [
        {
          "output_type": "display_data",
          "data": {
            "text/plain": [
              "<Figure size 432x288 with 1 Axes>"
            ],
            "image/png": "[encoded data removed]"
          },
          "metadata": {
            "needs_background": "light"
          }
        }
      ]
    },
    {
      "cell_type": "markdown",
      "source": [
        "# Anomaly Detection"
      ],
      "metadata": {
        "id": "FIkgCuY_zjYQ"
      }
    },
    {
      "cell_type": "code",
      "source": [
        "from sklearn.cluster import DBSCAN\n",
        "#Numpy array of all the cluster labels assigned to each data point\n",
        "label = DBSCAN(eps = 0.01, min_samples = 500, algorithm='ball_tree', leaf_size = 1000).fit_predict(X_principal)\n",
        "#label = db_default.labels_\n",
        "#labels.to_csv('test_DBSCAN1.csv')"
      ],
      "metadata": {
        "id": "Bx-1jK5nxl7U"
      },
      "execution_count": 15,
      "outputs": []
    },
    {
      "cell_type": "code",
      "source": [
        "# First you will need to upgrade pip and numpy\n",
        "#!pip install --upgrade pip\n",
        "#!pip install numpy==1.16.0\n",
        "# Important! Runtime needs a restart at this point. Go to menubar \"Runtime > Restart runtime...\"\n",
        "# Once restarted, you can resume\n",
        "#!pip install Cython\n",
        "#!pip install hdbscan\n",
        "# You should now be able to import hdbscan\n",
        "#import hdbscan\n",
        "#label = hdbscan.HDBSCAN(algorithm='best', alpha=1.0, approx_min_span_tree=True, gen_min_span_tree=False, metric='euclidean', min_cluster_size=, min_samples=1000, p=None).fit_predict(X_principal)"
      ],
      "metadata": {
        "id": "H4Aolm_KKGpm"
      },
      "execution_count": null,
      "outputs": []
    },
    {
      "cell_type": "code",
      "source": [
        "#from sklearn.ensemble import IsolationForest\n",
        "#label = IsolationForest(n_estimators= 50, contamination=0.13, max_samples=4500).fit_predict(X_principal)"
      ],
      "metadata": {
        "id": "VB0t7EeOfovK"
      },
      "execution_count": null,
      "outputs": []
    },
    {
      "cell_type": "code",
      "source": [
        "#from sklearn.cluster import Birch\n",
        "#label = Birch(n_clusters=2, threshold=0.5, branching_factor=10).fit_predict(X_principal)"
      ],
      "metadata": {
        "id": "HvDj3qajhdBr"
      },
      "execution_count": null,
      "outputs": []
    },
    {
      "cell_type": "code",
      "source": [
        "#from sklearn.cluster import OPTICS\n",
        "#label = OPTICS(min_cluster_size = 5000, max_eps = 0.005, n_jobs= -1).fit_predict(X_principal)\n",
        "#label.to_csv('test_OPTICS1.csv')"
      ],
      "metadata": {
        "id": "eY8OQF4RLcbR"
      },
      "execution_count": null,
      "outputs": []
    },
    {
      "cell_type": "code",
      "source": [
        "#from sklearn.cluster import MeanShift\n",
        "#label = MeanShift().fit_predict(X_principal)"
      ],
      "metadata": {
        "id": "JI_r9SdTjvWp"
      },
      "execution_count": null,
      "outputs": []
    },
    {
      "cell_type": "code",
      "source": [
        "#from sklearn.cluster import MiniBatchKMeans\n",
        "#label = MiniBatchKMeans(n_clusters=2, init='k-means++').fit_predict(X_principal)"
      ],
      "metadata": {
        "id": "KDHqbgiNl_QP"
      },
      "execution_count": null,
      "outputs": []
    },
    {
      "cell_type": "code",
      "source": [
        "#from sklearn.neighbors import LocalOutlierFactor\n",
        "#lof = LocalOutlierFactor(n_neighbors=500)\n",
        "#label = lof.fit_predict(X_principal)"
      ],
      "metadata": {
        "id": "UkaT4qvS-n2x"
      },
      "execution_count": null,
      "outputs": []
    },
    {
      "cell_type": "code",
      "source": [
        "#from sklearn.cluster import KMeans\n",
        "#kmeans = KMeans(n_clusters=2, algorithm='elkan', init='k-means++')\n",
        "#label = kmeans.fit_predict(X_principal)"
      ],
      "metadata": {
        "id": "yP2MZQZcMMOt"
      },
      "execution_count": 45,
      "outputs": []
    },
    {
      "cell_type": "code",
      "source": [
        "#from sklearn.cluster import AgglomerativeClustering\n",
        "#agg = AgglomerativeClustering()\n",
        "#label = agg.fit_predict(X_principal)"
      ],
      "metadata": {
        "id": "9CbipA-m3r7g"
      },
      "execution_count": null,
      "outputs": []
    },
    {
      "cell_type": "code",
      "source": [
        "#print(label)\n",
        "#label = pd.DataFrame(label, columns = ['Column_A'])\n",
        "#label.to_csv(\"lof_test1.csv\")"
      ],
      "metadata": {
        "id": "mTn4DBpkNr5Y"
      },
      "execution_count": null,
      "outputs": []
    },
    {
      "cell_type": "markdown",
      "source": [
        "# Visualization"
      ],
      "metadata": {
        "id": "aw4EUEBW3RPM"
      }
    },
    {
      "cell_type": "code",
      "source": [
        "label = pd.read_csv('drive/MyDrive/Datasets/test_DBSCAN1.csv')\n",
        "label = pd.DataFrame(label.iloc[:,1]).to_numpy()"
      ],
      "metadata": {
        "id": "zf-ltBT1cAbZ"
      },
      "execution_count": 52,
      "outputs": []
    },
    {
      "cell_type": "code",
      "source": [
        "plt.rcParams[\"figure.figsize\"] = (10,6)\n",
        "plt.scatter(X_principal.loc[label != -1, 0], X_principal.loc[label != -1, 1], s = 1, c = 'blue', label = 'Normal Data')\n",
        "plt.scatter(X_principal.loc[label == -1, 0], X_principal.loc[label == -1, 1], s = 1, c = 'red', label = 'Outliers Data')\n",
        "#plt.scatter(X_principal.iloc[:,0], X_principal.iloc[:,1], c = label, s = 1 , alpha=1)\n",
        "#plt.scatter(values.iloc[:, 0], values.iloc[:, 1], c = 'r', s = 1 , alpha=1)\n",
        "plt.title('IEEE33BUS Voltages Delay Attack Detection')\n",
        "plt.xlabel('P1')\n",
        "plt.ylabel('P2')\n",
        "plt.legend()\n",
        "plt.show()"
      ],
      "metadata": {
        "id": "aibl7bMS3TzR",
        "outputId": "e1799780-26fc-463a-a13a-8762ebb92a6c",
        "colab": {
          "base_uri": "https://localhost:8080/",
          "height": 404
        }
      },
      "execution_count": 53,
      "outputs": [
        {
          "output_type": "display_data",
          "data": {
            "text/plain": [
              "<Figure size 720x432 with 1 Axes>"
            ],
            "image/png": "[encoded data removed]"
          },
          "metadata": {
            "needs_background": "light"
          }
        }
      ]
    },
    {
      "cell_type": "code",
      "source": [
        "plt.scatter(X_principal.iloc[:,0], X_principal.iloc[:,1], c = label, s = 1 , alpha=1)\n",
        "plt.title('IEEE33BUS Voltages Delay Attack Detection')\n",
        "plt.xlabel('P1')\n",
        "plt.ylabel('P2')\n",
        "plt.legend()\n",
        "plt.show()"
      ],
      "metadata": {
        "id": "vfzRc65rqKSf",
        "outputId": "fec0bad2-4ac3-4f5e-c407-597e47ad1535",
        "colab": {
          "base_uri": "https://localhost:8080/",
          "height": 421
        }
      },
      "execution_count": 54,
      "outputs": [
        {
          "output_type": "stream",
          "name": "stderr",
          "text": [
            "No handles with labels found to put in legend.\n"
          ]
        },
        {
          "output_type": "display_data",
          "data": {
            "text/plain": [
              "<Figure size 720x432 with 1 Axes>"
            ],
            "image/png": "[encoded data removed]"
          },
          "metadata": {
            "needs_background": "light"
          }
        }
      ]
    },
    {
      "cell_type": "code",
      "source": [
        "#index = np.where(label == -1)\n",
        "#index1 = np.where(label==1)\n",
        "#index = tuple((i+100000)/20000 for i in index)\n",
        "#index1 = tuple((i+100000)/20000 for i in index1)"
      ],
      "metadata": {
        "id": "zBjpijspCPkd"
      },
      "execution_count": null,
      "outputs": []
    },
    {
      "cell_type": "code",
      "source": [
        "#plt.scatter(index, X_principal.loc[label == -1, 1], s = 1, c = 'red', label = 'Outliers Data')\n",
        "#plt.scatter(index1, X_principal.loc[label == 1, 1], s = 1, c = 'blue', label = 'Normal Data')\n",
        "#plt.scatter(X_principal.iloc[:,0], X_principal.iloc[:,1], c = 'b', s = 1 , alpha=1)\n",
        "#plt.scatter(values.iloc[:, 0], values.iloc[:, 1], c = 'r', s = 1 , alpha=1)\n",
        "#plt.title('IEEE33BUS Voltages Delay Attack Detection')\n",
        "#plt.xlabel('Time')\n",
        "#plt.ylabel('V')\n",
        "#plt.legend()\n",
        "#plt.show() "
      ],
      "metadata": {
        "id": "HJKyQrxdCHFd"
      },
      "execution_count": null,
      "outputs": []
    },
    {
      "cell_type": "code",
      "source": [
        "#ind = pd.Series(range(1,500001))\n",
        "#ind = (ind/20000)+5\n",
        "#plt.scatter(index, X_principal.loc[label == -1, 1], s = 1, c = 'red', label = 'Outliers Data')"
      ],
      "metadata": {
        "id": "vB2Bin7xDZuk"
      },
      "execution_count": null,
      "outputs": []
    },
    {
      "cell_type": "code",
      "source": [
        "#plt.scatter(ind[200000:260001], X_principal.loc[200000:260000,1], s = 1 )"
      ],
      "metadata": {
        "id": "VTZ7kLODFSt1"
      },
      "execution_count": null,
      "outputs": []
    }
  ]
}